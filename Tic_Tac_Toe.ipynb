{
 "cells": [
  {
   "cell_type": "markdown",
   "metadata": {
    "id": "u1JK6CbUD2ki"
   },
   "source": [
    "1. Aşama : Oyun tahtasını oluşturun: Oyun tahtasını 3x3'lük bir matris olarak tanımlayın. Bu matrisi, her bir hücreyi 'X', 'O' veya boşluk karakterleriyle doldurmak için kullanacaksınız. Matrisi oluşturmak için Python'un listelerini kullanabilirsiniz."
   ]
  },
  {
   "cell_type": "code",
   "execution_count": 24,
   "metadata": {
    "id": "BhyV4srrDujE"
   },
   "outputs": [],
   "source": [
    "# 3x3'lük boş matris oluşturma\n",
    "board = [    [' ', ' ', ' '],[' ', ' ', ' '],[' ', ' ', ' ']]\n",
    "\n",
    "# matrisi ekrana yazdırma\n",
    "def print_board():\n",
    "    print(board[0][0] + '|' + board[0][1] + '|' + board[0][2])\n",
    "    print('-+-+-')\n",
    "    print(board[1][0] + '|' + board[1][1] + '|' + board[1][2])\n",
    "    print('-+-+-')\n",
    "    print(board[2][0] + '|' + board[2][1] + '|' + board[2][2])\n"
   ]
  },
  {
   "cell_type": "markdown",
   "metadata": {
    "id": "W_x_oUBhEHDw"
   },
   "source": [
    "Bu kod, boş bir 3x3 matris oluşturur ve print_board() fonksiyonunu tanımlar. print_board() fonksiyonu, matrisi ekrana yazdırmak için kullanılır. Matrisin her bir hücresi, 'X', 'O' veya boşluk karakterleriyle doldurulabilir.\n",
    "\n",
    "Matrisi oluşturduktan sonra, bu matrisi diğer kod parçalarıyla birleştirerek tic tac toe oyunu geliştirmeye devam edeceğiz."
   ]
  },
  {
   "cell_type": "markdown",
   "metadata": {
    "id": "Q1HXudpRFGe7"
   },
   "source": [
    "2. Aşama : Oyuncu girişlerini alın: İlk olarak, oyuncuların 'X' ve 'O' karakterlerinden birini seçmelerine izin verin. Ardından, oyuncuların oynayacakları hücreleri seçmelerine izin verin. Oyuncu girdilerini almak için input() fonksiyonunu kullanabilirsiniz."
   ]
  },
  {
   "cell_type": "code",
   "execution_count": 25,
   "metadata": {
    "id": "FwGaBX8REIzJ"
   },
   "outputs": [
    {
     "name": "stdout",
     "output_type": "stream",
     "text": [
      "Oyuncu 1, 'X' veya 'O' karakterinden hangisini seçmek istersiniz? o\n",
      " | | \n",
      "-+-+-\n",
      " | | \n",
      "-+-+-\n",
      " | | \n",
      "O, hangi satıra oynamak istersiniz? (1-3): 1\n",
      "O, hangi sütuna oynamak istersiniz? (1-3): 1\n",
      "O| | \n",
      "-+-+-\n",
      " | | \n",
      "-+-+-\n",
      " | | \n",
      "X, hangi satıra oynamak istersiniz? (1-3): 1\n",
      "X, hangi sütuna oynamak istersiniz? (1-3): 2\n",
      "O|X| \n",
      "-+-+-\n",
      " | | \n",
      "-+-+-\n",
      " | | \n",
      "O, hangi satıra oynamak istersiniz? (1-3): 1\n",
      "O, hangi sütuna oynamak istersiniz? (1-3): 1\n",
      "Bu hücre dolu! Başka bir hücre seçin.\n",
      "O, hangi satıra oynamak istersiniz? (1-3): 2\n",
      "O, hangi sütuna oynamak istersiniz? (1-3): 1\n",
      "O|X| \n",
      "-+-+-\n",
      "O| | \n",
      "-+-+-\n",
      " | | \n",
      "X, hangi satıra oynamak istersiniz? (1-3): 2\n",
      "X, hangi sütuna oynamak istersiniz? (1-3): 22\n",
      "Lütfen geçerli bir satır ve sütun girin! (1-3)\n",
      "X, hangi satıra oynamak istersiniz? (1-3): 1\n",
      "X, hangi sütuna oynamak istersiniz? (1-3): 3\n",
      "O|X|X\n",
      "-+-+-\n",
      "O| | \n",
      "-+-+-\n",
      " | | \n",
      "O, hangi satıra oynamak istersiniz? (1-3): 3\n",
      "O, hangi sütuna oynamak istersiniz? (1-3): 1\n",
      "O|X|X\n",
      "-+-+-\n",
      "O| | \n",
      "-+-+-\n",
      "O| | \n",
      "O kazandı!\n"
     ]
    }
   ],
   "source": [
    "## oyuncu girişlerini alın\n",
    "def get_input(player):\n",
    "    while True:\n",
    "        try:\n",
    "            row = int(input(f\"{player}, hangi satıra oynamak istersiniz? (1-3): \")) - 1\n",
    "            col = int(input(f\"{player}, hangi sütuna oynamak istersiniz? (1-3): \")) - 1\n",
    "            \n",
    "            if row < 0 or row > 2 or col < 0 or col > 2:\n",
    "                print(\"Lütfen geçerli bir satır ve sütun girin! (1-3)\")\n",
    "            elif board[row][col] != ' ':\n",
    "                print(\"Bu hücre dolu! Başka bir hücre seçin.\")\n",
    "            else:\n",
    "                return row, col\n",
    "        except ValueError:\n",
    "            print(\"Lütfen geçerli bir sayı girin! (1-3)\")\n",
    "\n",
    "# oyuncuların 'X' veya 'O' seçmelerine izin verin\n",
    "player1 = input(\"Oyuncu 1, 'X' veya 'O' karakterinden hangisini seçmek istersiniz? \").upper()\n",
    "while player1 != 'X' and player1 != 'O':\n",
    "    player1 = input(\"Geçersiz seçim! Lütfen 'X' veya 'O' karakterinden birini seçin: \").upper()\n",
    "\n",
    "player2 = 'X' if player1 == 'O' else 'O'\n",
    "\n",
    "# oyuncuların oynayacakları hücreleri seçmelerine izin verin\n",
    "current_player = player1\n",
    "while True:\n",
    "    print_board()\n",
    "    row, col = get_input(current_player)\n",
    "    board[row][col] = current_player\n",
    "    \n",
    "    # oyunun kazananını kontrol etme\n",
    "    if (board[0][0] == board[0][1] == board[0][2] == current_player or\n",
    "        board[1][0] == board[1][1] == board[1][2] == current_player or\n",
    "        board[2][0] == board[2][1] == board[2][2] == current_player or\n",
    "        board[0][0] == board[1][0] == board[2][0] == current_player or\n",
    "        board[0][1] == board[1][1] == board[2][1] == current_player or\n",
    "        board[0][2] == board[1][2] == board[2][2] == current_player or\n",
    "        board[0][0] == board[1][1] == board[2][2] == current_player or\n",
    "        board[0][2] == board[1][1] == board[2][0] == current_player):\n",
    "        print_board()\n",
    "        print(f\"{current_player} kazandı!\")\n",
    "        break\n",
    "    \n",
    "    # oyunun berabere kalıp kalmadığını kontrol etme\n",
    "    if all([cell != ' ' for row in board for cell in row]):\n",
    "        print_board()\n",
    "        print(\"Oyun berabere kaldı!\")\n",
    "        break\n",
    "    \n",
    "    # oyuncu değiştirme\n",
    "    current_player = player1 if current_player == player2 else player2\n"
   ]
  },
  {
   "cell_type": "markdown",
   "metadata": {
    "id": "5D_XHLz9FMU8"
   },
   "source": [
    "3. Aşama : Hamle doğrulaması: Her hamlede, kullanıcının seçtiği hücrenin boş olup olmadığını doğrulamanız gerekir. Eğer hücre zaten doluysa, kullanıcıya tekrar hamle yapması için bir mesaj gösterin."
   ]
  },
  {
   "cell_type": "markdown",
   "metadata": {
    "id": "sz6al9AbHVBg"
   },
   "source": [
    "Tabloya oyuncu hamlelerini yaparken, her hamlede hamlenin doğruluğunu kontrol etmemiz gerekiyor. Eğer seçilen hücre doluysa, oyuncuya uygun bir mesaj göstermeliyiz. Aşağıdaki kod örneği, kullanıcı girdilerini alır ve her hamlede doğruluğunu kontrol eder:"
   ]
  },
  {
   "cell_type": "code",
   "execution_count": 26,
   "metadata": {
    "id": "ssfSiLYqGzWj"
   },
   "outputs": [],
   "source": [
    "def take_input(player):\n",
    "    print(f\"{player}'sıra:\")\n",
    "    row = int(input(\"Satır numarasını girin (0, 1, 2): \"))\n",
    "    col = int(input(\"Sütun numarasını girin (0, 1, 2): \"))\n",
    "    return row, col\n",
    "\n",
    "def make_move(board, player):\n",
    "    row, col = take_input(player)\n",
    "    if board[row][col] != ' ':\n",
    "        print(\"Bu hücre zaten dolu. Lütfen başka birini seçiniz.\")\n",
    "        make_move(board, player)\n",
    "    else:\n",
    "        board[row][col] = player\n"
   ]
  },
  {
   "cell_type": "markdown",
   "metadata": {
    "id": "BOLweXdfG8ev"
   },
   "source": [
    "Burada take_input() fonksiyonu, kullanıcının satır ve sütun numaralarını alır ve make_move() fonksiyonu, kullanıcının seçtiği hücreyi kontrol eder. Eğer hücre doluysa, fonksiyon kendini tekrar çağırarak kullanıcının başka bir hamle yapmasını sağlar. Aksi takdirde, seçilen hücreyi oyuncunun sembolü ile doldurur."
   ]
  },
  {
   "cell_type": "markdown",
   "metadata": {
    "id": "ESFL0l7zHAdK"
   },
   "source": [
    "4. Aşama : Oyun durumunu kontrol edin: Her hamleden sonra, oyunun bitip bitmediğini kontrol etmeniz gerekir. Tic Tac Toe oyunu, bir oyuncu üç 'X' veya 'O' karakterini yatay, dikey veya çapraz olarak dizdiğinde kazanılır. Oyun tahtası doluysa ve bir kazanan yoksa, oyun berabere biter."
   ]
  },
  {
   "cell_type": "markdown",
   "metadata": {
    "id": "ZpphfQ2dHlfn"
   },
   "source": [
    "Oyunun bitip bitmediğini kontrol etmek için, her hamleden sonra oyun tahtasındaki durumu kontrol etmeliyiz. Eğer bir oyuncu üç sembolü yatay, dikey veya çapraz olarak dizdiyse, oyunu kazanır ve oyunu bitiririz. Aksi takdirde, eğer tahta doluysa ve kazanan yoksa, oyun berabere biter."
   ]
  },
  {
   "cell_type": "code",
   "execution_count": 27,
   "metadata": {
    "id": "V6bL1vwzHc08"
   },
   "outputs": [],
   "source": [
    "def check_win(board):\n",
    "    # yatay kazanma durumu\n",
    "    for row in board:\n",
    "        if row.count(row[0]) == len(row) and row[0] != ' ':\n",
    "            return True\n",
    "\n",
    "    # dikey kazanma durumu\n",
    "    for col in range(len(board)):\n",
    "        if board[0][col] == board[1][col] == board[2][col] and board[0][col] != ' ':\n",
    "            return True\n",
    "\n",
    "    # çapraz kazanma durumu\n",
    "    if board[0][0] == board[1][1] == board[2][2] and board[0][0] != ' ':\n",
    "        return True\n",
    "    if board[0][2] == board[1][1] == board[2][0] and board[0][2] != ' ':\n",
    "        return True\n",
    "\n",
    "    return False\n"
   ]
  },
  {
   "cell_type": "markdown",
   "metadata": {
    "id": "PIQTDIZKHtbK"
   },
   "source": [
    "Burada, check_win() fonksiyonu, oyun tahtasında yatay, dikey veya çapraz bir kazanma durumunu kontrol eder. Eğer bir kazanan varsa, fonksiyon True değeri döndürür. Aksi takdirde, False değeri döndürür.\n",
    "\n",
    "Ayrıca, oyunun berabere bitip bitmediğini de kontrol etmeliyiz. Bunu yapmak için, oyun tahtasında boş hücrelerin olup olmadığını kontrol edebiliriz. Eğer boş hücre yoksa ve kazanan yoksa, oyun berabere biter."
   ]
  },
  {
   "cell_type": "markdown",
   "metadata": {
    "id": "TpgWAhXAY1FH"
   },
   "source": [
    "5 Aşama : Oyunu yeniden başlatın: Oyunun bitip bitmediğini kontrol ettikten sonra, kullanıcıya tekrar oynamak isteyip istemediğini sorun. Eğer evet derse, oyun tahtasını yeniden başlatın ve tekrar başlayın."
   ]
  },
  {
   "cell_type": "code",
   "execution_count": 28,
   "metadata": {
    "id": "XHawJvdpIa4B"
   },
   "outputs": [
    {
     "name": "stdout",
     "output_type": "stream",
     "text": [
      "Tekrar oynamak istiyor musunuz? (E/H): e\n"
     ]
    },
    {
     "ename": "NameError",
     "evalue": "name 'tic_tac_toe' is not defined",
     "output_type": "error",
     "traceback": [
      "\u001b[1;31m---------------------------------------------------------------------------\u001b[0m",
      "\u001b[1;31mNameError\u001b[0m                                 Traceback (most recent call last)",
      "\u001b[1;32m~\\AppData\\Local\\Temp\\ipykernel_5192\\1705226768.py\u001b[0m in \u001b[0;36m<module>\u001b[1;34m\u001b[0m\n\u001b[0;32m      3\u001b[0m     \u001b[0mrestart\u001b[0m \u001b[1;33m=\u001b[0m \u001b[0minput\u001b[0m\u001b[1;33m(\u001b[0m\u001b[1;34m\"Lütfen 'E' veya 'H' girin: \"\u001b[0m\u001b[1;33m)\u001b[0m\u001b[1;33m.\u001b[0m\u001b[0mupper\u001b[0m\u001b[1;33m(\u001b[0m\u001b[1;33m)\u001b[0m\u001b[1;33m\u001b[0m\u001b[1;33m\u001b[0m\u001b[0m\n\u001b[0;32m      4\u001b[0m \u001b[1;32mif\u001b[0m \u001b[0mrestart\u001b[0m \u001b[1;33m==\u001b[0m \u001b[1;34m'E'\u001b[0m\u001b[1;33m:\u001b[0m\u001b[1;33m\u001b[0m\u001b[1;33m\u001b[0m\u001b[0m\n\u001b[1;32m----> 5\u001b[1;33m     \u001b[0mtic_tac_toe\u001b[0m\u001b[1;33m(\u001b[0m\u001b[1;33m)\u001b[0m\u001b[1;33m\u001b[0m\u001b[1;33m\u001b[0m\u001b[0m\n\u001b[0m\u001b[0;32m      6\u001b[0m \u001b[1;32melse\u001b[0m\u001b[1;33m:\u001b[0m\u001b[1;33m\u001b[0m\u001b[1;33m\u001b[0m\u001b[0m\n\u001b[0;32m      7\u001b[0m     \u001b[0mprint\u001b[0m\u001b[1;33m(\u001b[0m\u001b[1;34m\"Oyun bitti. İyi günler!\"\u001b[0m\u001b[1;33m)\u001b[0m\u001b[1;33m\u001b[0m\u001b[1;33m\u001b[0m\u001b[0m\n",
      "\u001b[1;31mNameError\u001b[0m: name 'tic_tac_toe' is not defined"
     ]
    }
   ],
   "source": [
    "restart = input(\"Tekrar oynamak istiyor musunuz? (E/H): \").upper()\n",
    "while restart not in ('E', 'H'):\n",
    "    restart = input(\"Lütfen 'E' veya 'H' girin: \").upper()\n",
    "if restart == 'E':\n",
    "    tic_tac_toe()\n",
    "else:\n",
    "    print(\"Oyun bitti. İyi günler!\")"
   ]
  },
  {
   "cell_type": "markdown",
   "metadata": {
    "id": "6c_hCfARh1qE"
   },
   "source": [
    "6. Aşama : Bilgisayara karşı oynama: Eğer kullanıcı bilgisayara karşı oynamak istiyorsa, bilgisayarın da bir hamle yapması gerekecek. Bunun için, basit bir algoritma kullanabilirsiniz. Örneğin, bilgisayarın ilk boş hücreyi seçmesi veya oyuncunun kazanma ihtimali olan bir hamleyi bloke etmesi gibi."
   ]
  },
  {
   "cell_type": "markdown",
   "metadata": {
    "id": "3F8mX0BskW9h"
   },
   "source": [
    "İlk olarak, bilgisayarın hamlesini yapabilmesi için bir fonksiyon yazalım. Bu fonksiyon, mevcut tahta durumunu ve bilgisayarın karakterini alacak ve bilgisayarın yapabileceği en iyi hamleyi yapacak."
   ]
  },
  {
   "cell_type": "code",
   "execution_count": 29,
   "metadata": {
    "id": "pKCN733xkTv2"
   },
   "outputs": [],
   "source": [
    "def bilgisayar_hamlesi(tahta, bilgisayar_karakteri):\n",
    "    # İlk boş hücreyı seç\n",
    "    for i in range(3):\n",
    "        for j in range(3):\n",
    "            if tahta[i][j] == ' ':\n",
    "                tahta[i][j] = bilgisayar_karakteri\n",
    "                return\n",
    "    \n",
    "    # Eğer boş hücre yoksa, rastgele bir hücre seç\n",
    "    import random\n",
    "    i = random.randint(0, 2)\n",
    "    j = random.randint(0, 2)\n",
    "    tahta[i][j] = bilgisayar_karakteri\n"
   ]
  },
  {
   "cell_type": "markdown",
   "metadata": {
    "id": "McymyK3gkZ8y"
   },
   "source": [
    "Bu fonksiyon, öncelikle boş bir hücre seçmeye çalışır. Eğer tahta doluysa, rastgele bir hücre seçer.\n",
    "\n",
    "Bunun ardından, kullanıcının hamlesini alırken, kullanıcının karakterini de belirlememiz gerekiyor. Bunun için, kullanıcının karakterini input() fonksiyonuyla alabiliriz. Daha sonra, her hamleden sonra oyun durumunu kontrol etmek için daha önce yazdığımız kontrol_fonksiyonu() fonksiyonunu kullanabiliriz."
   ]
  },
  {
   "cell_type": "code",
   "execution_count": 30,
   "metadata": {
    "id": "nCyS5A3Kkcn4"
   },
   "outputs": [],
   "source": [
    "def oyna():\n",
    "    # Oyun tahtasını oluştur\n",
    "    tahta = [[' ' for _ in range(3)] for _ in range(3)]\n",
    "\n",
    "    # Kullanıcının karakterini belirle\n",
    "    kullanici_karakteri = input(\"Hangi karakterle oynamak istersiniz (X/O)? \").upper()\n",
    "    while kullanici_karakteri not in ['X', 'O']:\n",
    "        kullanici_karakteri = input(\"Geçersiz karakter. Hangi karakterle oynamak istersiniz (X/O)? \").upper()\n",
    "\n",
    "    # Bilgisayarın karakterini belirle\n",
    "    bilgisayar_karakteri = 'O' if kullanici_karakteri == 'X' else 'X'\n",
    "\n",
    "    # Oyun döngüsü\n",
    "    while True:\n",
    "        # Oyuncunun hamlesini al\n",
    "        print_tahta(tahta)\n",
    "        hamle = input(\"Hangi hücreye oynamak istersiniz? (örn: 1 2): \")\n",
    "        hamle = hamle.split()\n",
    "        x = int(hamle[0]) - 1\n",
    "        y = int(hamle[1]) - 1\n",
    "\n",
    "        # Hamle doğrulaması\n",
    "        if tahta[x][y] != ' ':\n",
    "            print(\"Geçersiz hamle. Lütfen boş bir hücre seçin.\")\n",
    "            continue\n",
    "\n",
    "        tahta[x][y] = kullanici_karakteri\n",
    "\n",
    "       \n"
   ]
  },
  {
   "cell_type": "markdown",
   "metadata": {
    "id": "QgxD2_rYkg1k"
   },
   "source": [
    "#Tüm Kod"
   ]
  },
  {
   "cell_type": "code",
   "execution_count": 31,
   "metadata": {
    "id": "wv3aTmr6kjnE"
   },
   "outputs": [
    {
     "name": "stdout",
     "output_type": "stream",
     "text": [
      "Welcome to Tic Tac Toe!\n"
     ]
    },
    {
     "ename": "NameError",
     "evalue": "name 'turn' is not defined",
     "output_type": "error",
     "traceback": [
      "\u001b[1;31m---------------------------------------------------------------------------\u001b[0m",
      "\u001b[1;31mNameError\u001b[0m                                 Traceback (most recent call last)",
      "\u001b[1;32m~\\AppData\\Local\\Temp\\ipykernel_5192\\2144154725.py\u001b[0m in \u001b[0;36m<module>\u001b[1;34m\u001b[0m\n\u001b[0;32m    108\u001b[0m \u001b[1;32mwhile\u001b[0m \u001b[1;32mTrue\u001b[0m\u001b[1;33m:\u001b[0m\u001b[1;33m\u001b[0m\u001b[1;33m\u001b[0m\u001b[0m\n\u001b[0;32m    109\u001b[0m \u001b[1;33m\u001b[0m\u001b[0m\n\u001b[1;32m--> 110\u001b[1;33m     \u001b[1;32mif\u001b[0m \u001b[0mturn\u001b[0m \u001b[1;33m==\u001b[0m \u001b[1;34m'Player 1'\u001b[0m\u001b[1;33m:\u001b[0m\u001b[1;33m\u001b[0m\u001b[1;33m\u001b[0m\u001b[0m\n\u001b[0m\u001b[0;32m    111\u001b[0m         \u001b[1;31m# Oyuncu 1 in sırası\u001b[0m\u001b[1;33m\u001b[0m\u001b[1;33m\u001b[0m\u001b[0m\n\u001b[0;32m    112\u001b[0m         \u001b[0mdisplay_board\u001b[0m\u001b[1;33m(\u001b[0m\u001b[0mboard\u001b[0m\u001b[1;33m)\u001b[0m\u001b[1;33m\u001b[0m\u001b[1;33m\u001b[0m\u001b[0m\n",
      "\u001b[1;31mNameError\u001b[0m: name 'turn' is not defined"
     ]
    }
   ],
   "source": [
    "def create_board():\n",
    "    board = [[' ', ' ', ' '], [' ', ' ', ' '], [' ', ' ', ' ']]\n",
    "    return board\n",
    "\n",
    "def display_board(board):\n",
    "    for row in board:\n",
    "        print('|'.join(row))\n",
    "\n",
    "def player_input():\n",
    "    marker = ''\n",
    "    while marker != 'X' and marker != 'O':\n",
    "        marker = input('Player 1, choose X or O: ').upper()\n",
    "\n",
    "    if marker == 'X':\n",
    "        return ('X', 'O')\n",
    "    else:\n",
    "        return ('O', 'X')\n",
    "\n",
    "def place_marker(board, marker, position):\n",
    "    row, col = position\n",
    "    board[row][col] = marker\n",
    "\n",
    "def win_check(board, mark):\n",
    "    # Check rows\n",
    "    for row in board:\n",
    "        if row.count(mark) == 3:\n",
    "            return True\n",
    "\n",
    "    # Check columns\n",
    "    for col in range(3):\n",
    "        if board[0][col] == mark and board[1][col] == mark and board[2][col] == mark:\n",
    "            return True\n",
    "\n",
    "    # Check diagonals\n",
    "    if board[0][0] == mark and board[1][1] == mark and board[2][2] == mark:\n",
    "        return True\n",
    "    elif board[0][2] == mark and board[1][1] == mark and board[2][0] == mark:\n",
    "        return True\n",
    "\n",
    "    return False\n",
    "\n",
    "def choose_first():\n",
    "    import random\n",
    "    if random.randint(0, 1) == 0:\n",
    "        return 'Player 2'\n",
    "    else:\n",
    "        return 'Player 1'\n",
    "\n",
    "def space_check(board, position):\n",
    "    row, col = position\n",
    "    return board[row][col] == ' '\n",
    "\n",
    "def full_board_check(board):\n",
    "    for row in board:\n",
    "        if ' ' in row:\n",
    "            return False\n",
    "    return True\n",
    "\n",
    "def player_choice(board):\n",
    "    position = ()\n",
    "    while position == ():\n",
    "        pos_str = input('Choose a position (row, column) between 1-3: ')\n",
    "        row, col = pos_str.split(',')\n",
    "        row = int(row) - 1\n",
    "        col = int(col) - 1\n",
    "        if row in range(3) and col in range(3):\n",
    "            if space_check(board, (row, col)):\n",
    "                position = (row, col)\n",
    "            else:\n",
    "                print('This position is already taken.')\n",
    "        else:\n",
    "            print('Invalid position. Please try again.')\n",
    "    return position\n",
    "\n",
    "def computer_choice(board, computer_mark):\n",
    "    for row in range(3):\n",
    "        for col in range(3):\n",
    "            if space_check(board, (row, col)):\n",
    "                # Check if computer can win\n",
    "                board[row][col] = computer_mark\n",
    "                if win_check(board, computer_mark):\n",
    "                    return (row, col)\n",
    "                board[row][col] = ' '\n",
    "\n",
    "    for row in range(3):\n",
    "        for col in range(3):\n",
    "            if space_check(board, (row, col)):\n",
    "                # Check if player can win and block\n",
    "                board[row][col] = player_mark\n",
    "                if win_check(board, player_mark):\n",
    "                    return (row, col)\n",
    "                board[row][col] = ' '\n",
    "\n",
    "    # Choose a random cell\n",
    "    options = []\n",
    "    for row in range(3):\n",
    "        for col in range(3):\n",
    "            if space_check(board, (row, col)):\n",
    "                options.append((row, col))\n",
    "\n",
    "    return random.choice(options)\n",
    "\n",
    "def replay():\n",
    "    return input('Do you want to play again? Enter Yes or No: ').lower().startswith('y')\n",
    "\n",
    "print('Welcome to Tic Tac Toe!')\n",
    "\n",
    "while True:\n",
    "   \n",
    "    if turn == 'Player 1':\n",
    "        # Oyuncu 1 in sırası\n",
    "        display_board(board)\n",
    "        position = player_choice(board)\n",
    "        place_marker(board, player1_marker, position)\n",
    "\n",
    "        if win_check(board, player1_marker):\n",
    "            display_board(board)\n",
    "            print('Tebrikler! Oyuncu 1 oyunu kazandı!')\n",
    "            break\n",
    "\n",
    "        if full_board_check(board):\n",
    "            display_board(board)\n",
    "            print('Oyun berabere!')\n",
    "            break\n",
    "\n",
    "        turn = 'Player 2'\n",
    "    \n",
    "    else:\n",
    "        # Oyuncu 2'nin sırası veya bilgisayarın sırası\n",
    "        display_board(board)\n",
    "        if player2_marker == 'Bilgisayar':\n",
    "            print('Bilgisayar düşünüyor...')\n",
    "            position = computer_choice(board, player1_marker)\n",
    "        else:\n",
    "            position = player_choice(board)\n",
    "            place_marker(board, player2_marker, position)\n",
    "\n",
    "        if win_check(board, player2_marker):\n",
    "            display_board(board)\n",
    "            if player2_marker == 'Bilgisayar':\n",
    "                print('Üzgünüz, Bilgisayar oyunu kazandı!')\n",
    "            else:\n",
    "                print('Tebrikler! Oyuncu 2 oyunu kazandı!')\n",
    "            break\n",
    "\n",
    "        if full_board_check(board):\n",
    "            display_board(board)\n",
    "            print('Oyun berabere!')\n",
    "            break\n",
    "\n",
    "        turn = 'Player 1'\n",
    "\n",
    "if not replay():\n",
    "    break\n"
   ]
  },
  {
   "cell_type": "code",
   "execution_count": null,
   "metadata": {},
   "outputs": [
    {
     "name": "stdout",
     "output_type": "stream",
     "text": [
      "Hello! Welcome to Pam's Tic Tac Toe game!\n",
      "\n",
      "\n",
      "Rules: Player 1 and player 2, represented by X and O, take turns marking the spaces in a 3*3 grid. The player who succeeds in placing three of their marks in a horizontal, vertical, or diagonal row wins.\n",
      "\n",
      "\n",
      "Press enter to continue.\n",
      "\n",
      "\n",
      "Here is the playboard: \n",
      "---+---+---\n",
      "   |   |  \n",
      "---+---+---\n",
      "   |   |  \n",
      "---+---+---\n",
      "   |   |  \n",
      "---+---+---\n",
      "Player 1, do you want to be X or O? o\n",
      "Player 2, you are X. \n",
      "Press enter to continue.\n",
      "\n",
      "\n",
      "Player X, it is your turn. \n"
     ]
    }
   ],
   "source": [
    "def main():\n",
    "# The main function\n",
    "    introduction = intro()\n",
    "    board = create_grid()\n",
    "    pretty = printPretty(board)\n",
    "    symbol_1, symbol_2 = sym()\n",
    "    full = isFull(board, symbol_1, symbol_2) # The function that starts the game is also in here.\n",
    "    \n",
    "\n",
    "    \n",
    "\n",
    "\n",
    "def intro():\n",
    "# This function introduces the rules of the game Tic Tac Toe\n",
    "    print(\"Hello! Welcome to Pam's Tic Tac Toe game!\")\n",
    "    print(\"\\n\")\n",
    "    print(\"Rules: Player 1 and player 2, represented by X and O, take turns \"\n",
    "          \"marking the spaces in a 3*3 grid. The player who succeeds in placing \"\n",
    "          \"three of their marks in a horizontal, vertical, or diagonal row wins.\")\n",
    "    print(\"\\n\")\n",
    "    input(\"Press enter to continue.\")\n",
    "    print(\"\\n\")\n",
    "\n",
    "\n",
    "\n",
    "def create_grid():\n",
    "# This function creates a blank playboard\n",
    "    print(\"Here is the playboard: \")\n",
    "    board = [[\" \", \" \", \" \"],\n",
    "             [\" \", \" \", \" \"],\n",
    "             [\" \", \" \", \" \"]]        \n",
    "    return board\n",
    "\n",
    "\n",
    "\n",
    "def sym():\n",
    "# This function decides the players' symbols\n",
    "    symbol_1 = input(\"Player 1, do you want to be X or O? \")\n",
    "    if symbol_1 == \"X\":\n",
    "        symbol_2 = \"O\"\n",
    "        print(\"Player 2, you are O. \")\n",
    "    else:\n",
    "        symbol_2 = \"X\"\n",
    "        print(\"Player 2, you are X. \")\n",
    "    input(\"Press enter to continue.\")\n",
    "    print(\"\\n\")\n",
    "    return (symbol_1, symbol_2)\n",
    "\n",
    "\n",
    "\n",
    "def startGamming(board, symbol_1, symbol_2, count):\n",
    "# This function starts the game.\n",
    "\n",
    "    # Decides the turn\n",
    "    if count % 2 == 0:\n",
    "        player = symbol_1\n",
    "    elif count % 2 == 1:\n",
    "        player = symbol_2\n",
    "    print(\"Player \"+ player + \", it is your turn. \")\n",
    "    row = int(input(\"Pick a row:\"\n",
    "                    \"[upper row: enter 0, middle row: enter 1, bottom row: enter 2]:\"))\n",
    "    column = int(input(\"Pick a column:\"\n",
    "                       \"[left column: enter 0, middle column: enter 1, right column enter 2]\"))\n",
    "\n",
    "\n",
    "    # Check if players' selection is out of range\n",
    "    while (row > 2 or row < 0) or (column > 2 or column < 0):\n",
    "        outOfBoard(row, column)\n",
    "        row = int(input(\"Pick a row[upper row:\"\n",
    "                        \"[enter 0, middle row: enter 1, bottom row: enter 2]:\"))\n",
    "        column = int(input(\"Pick a column:\"\n",
    "                           \"[left column: enter 0, middle column: enter 1, right column enter 2]\"))\n",
    "\n",
    "        # Check if the square is already filled\n",
    "    while (board[row][column] == symbol_1)or (board[row][column] == symbol_2):\n",
    "        filled = illegal(board, symbol_1, symbol_2, row, column)\n",
    "        row = int(input(\"Pick a row[upper row:\"\n",
    "                        \"[enter 0, middle row: enter 1, bottom row: enter 2]:\"))\n",
    "        column = int(input(\"Pick a column:\"\n",
    "                            \"[left column: enter 0, middle column: enter 1, right column enter 2]\"))    \n",
    "        \n",
    "    # Locates player's symbol on the board\n",
    "    if player == symbol_1:\n",
    "        board[row][column] = symbol_1\n",
    "            \n",
    "    else:\n",
    "        board[row][column] = symbol_2\n",
    "    \n",
    "    return (board)\n",
    "\n",
    "\n",
    "\n",
    "def isFull(board, symbol_1, symbol_2):\n",
    "    count = 1\n",
    "    winner = True\n",
    "# This function check if the board is full\n",
    "    while count < 10 and winner == True:\n",
    "        gaming = startGamming(board, symbol_1, symbol_2, count)\n",
    "        pretty = printPretty(board)\n",
    "        \n",
    "        if count == 9:\n",
    "            print(\"The board is full. Game over.\")\n",
    "            if winner == True:\n",
    "                print(\"There is a tie. \")\n",
    "\n",
    "        # Check if here is a winner\n",
    "        winner = isWinner(board, symbol_1, symbol_2, count)\n",
    "        count += 1\n",
    "    if winner == False:\n",
    "        print(\"Game over.\")\n",
    "        \n",
    "    # This is function gives a report \n",
    "    report(count, winner, symbol_1, symbol_2)\n",
    "\n",
    "\n",
    "\n",
    "def outOfBoard(row, column):\n",
    "# This function tells the players that their selection is out of range\n",
    "    print(\"Out of boarder. Pick another one. \")\n",
    "    \n",
    "    \n",
    "\n",
    "def printPretty(board):\n",
    "# This function prints the board nice!\n",
    "    rows = len(board)\n",
    "    cols = len(board)\n",
    "    print(\"---+---+---\")\n",
    "    for r in range(rows):\n",
    "        print(board[r][0], \" |\", board[r][1], \"|\", board[r][2])\n",
    "        print(\"---+---+---\")\n",
    "    return board\n",
    "\n",
    "\n",
    "\n",
    "def isWinner(board, symbol_1, symbol_2, count):\n",
    "# This function checks if any winner is winning\n",
    "    winner = True\n",
    "    # Check the rows\n",
    "    for row in range (0, 3):\n",
    "        if (board[row][0] == board[row][1] == board[row][2] == symbol_1):\n",
    "            winner = False\n",
    "            print(\"Player \" + symbol_1 + \", you won!\")\n",
    "   \n",
    "        elif (board[row][0] == board[row][1] == board[row][2] == symbol_2):\n",
    "            winner = False\n",
    "            print(\"Player \" + symbol_2 + \", you won!\")\n",
    "            \n",
    "            \n",
    "    # Check the columns\n",
    "    for col in range (0, 3):\n",
    "        if (board[0][col] == board[1][col] == board[2][col] == symbol_1):\n",
    "            winner = False\n",
    "            print(\"Player \" + symbol_1 + \", you won!\")\n",
    "        elif (board[0][col] == board[1][col] == board[2][col] == symbol_2):\n",
    "            winner = False\n",
    "            print(\"Player \" + symbol_2 + \", you won!\")\n",
    "\n",
    "    # Check the diagnoals\n",
    "    if board[0][0] == board[1][1] == board[2][2] == symbol_1:\n",
    "        winner = False \n",
    "        print(\"Player \" + symbol_1 + \", you won!\")\n",
    "\n",
    "    elif board[0][0] == board[1][1] == board[2][2] == symbol_2:\n",
    "        winner = False\n",
    "        print(\"Player \" + symbol_2 + \", you won!\")\n",
    "\n",
    "    elif board[0][2] == board[1][1] == board[2][0] == symbol_1:\n",
    "        winner = False\n",
    "        print(\"Player \" + symbol_1 + \", you won!\")\n",
    "\n",
    "    elif board[0][2] == board[1][1] == board[2][0] == symbol_2:\n",
    "        winner = False\n",
    "        print(\"Player \" + symbol_2 + \", you won!\")\n",
    "\n",
    "    return winner\n",
    "    \n",
    "\n",
    "\n",
    "def illegal(board, symbol_1, symbol_2, row, column):\n",
    "    print(\"The square you picked is already filled. Pick another one.\")\n",
    "\n",
    "    \n",
    "def report(count, winner, symbol_1, symbol_2):\n",
    "    print(\"\\n\")\n",
    "    input(\"Press enter to see the game summary. \")\n",
    "    if (winner == False) and (count % 2 == 1 ):\n",
    "        print(\"Winner : Player \" + symbol_1 + \".\")\n",
    "    elif (winner == False) and (count % 2 == 0 ):\n",
    "        print(\"Winner : Player \" + symbol_2 + \".\")\n",
    "    else:\n",
    "        print(\"There is a tie. \")\n",
    "\n",
    "# Call Main\n",
    "main()"
   ]
  },
  {
   "cell_type": "code",
   "execution_count": null,
   "metadata": {},
   "outputs": [],
   "source": []
  }
 ],
 "metadata": {
  "colab": {
   "provenance": []
  },
  "kernelspec": {
   "display_name": "Python 3 (ipykernel)",
   "language": "python",
   "name": "python3"
  },
  "language_info": {
   "codemirror_mode": {
    "name": "ipython",
    "version": 3
   },
   "file_extension": ".py",
   "mimetype": "text/x-python",
   "name": "python",
   "nbconvert_exporter": "python",
   "pygments_lexer": "ipython3",
   "version": "3.9.13"
  }
 },
 "nbformat": 4,
 "nbformat_minor": 1
}
